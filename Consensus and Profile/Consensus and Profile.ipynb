{
 "cells": [
  {
   "cell_type": "code",
   "execution_count": 1,
   "metadata": {},
   "outputs": [
    {
     "name": "stdout",
     "output_type": "stream",
     "text": [
      "Consensus: AATTTTTTTTTTTATATTTTATATTAATTATTTTTTTTTTTTTTTTTATTTTATTATTTATATTAATTTA\n",
      "A: 140 141 126 131 112 118 132 136 119 130 127 125 128 131 123 144 138 131 130 118 139 126 131 129 141 137 130 117 130 144 121 132 129 141 117 106 114 124 119 131 127 125 128 122 131 125 118 132 137 121 123 115 133 120 135 143 133 117 124 132 128 137 122 111 149 141 107 117 133 130 \n",
      "C: 62 88 72 81 79 93 76 63 84 78 76 82 85 84 90 80 71 73 79 82 79 81 91 83 62 68 73 91 70 72 88 83 82 67 77 75 76 82 67 75 81 63 63 75 79 86 80 92 70 77 86 63 84 91 80 74 81 85 88 90 77 76 85 80 73 78 70 73 80 92 \n",
      "G: 101 69 91 83 86 81 87 93 88 84 78 79 80 83 66 75 79 91 83 95 77 85 89 72 76 89 95 81 88 101 77 80 86 77 83 89 89 94 96 71 83 87 94 90 86 89 80 80 75 88 83 88 78 86 76 78 74 98 75 77 78 81 81 89 79 85 107 85 59 87 \n",
      "T: 125 130 139 133 151 136 133 136 137 136 147 142 135 129 148 128 139 132 135 132 132 135 116 143 148 133 129 138 139 110 141 132 130 142 150 157 148 127 145 150 136 152 142 140 131 127 149 123 145 141 135 161 132 130 136 132 139 127 140 128 144 133 139 147 126 123 143 152 155 118 \n"
     ]
    }
   ],
   "source": [
    "import numpy as np\n",
    "\n",
    "file = open('files/Sars-Cov-2.fasta', 'r')\n",
    "\n",
    "lines = file.readlines()\n",
    "\n",
    "file.close()\n",
    "\n",
    "# Removendo o cabeçalho\n",
    "del lines[0]\n",
    "# Removendo o último '\\n'\n",
    "del lines[len(lines) - 1]\n",
    "# Removendo a última linha com quantidade de colunas diferentes\n",
    "last_line = list(lines[len(lines) - 1].rstrip('\\n'))\n",
    "del lines[len(lines) - 1]\n",
    "\n",
    "matrix = []\n",
    "\n",
    "for line in lines:\n",
    "    line = line.rstrip('\\n')\n",
    "    line = list(line)\n",
    "    matrix.append(line) \n",
    "    \n",
    "matrix = np.array(matrix)\n",
    "profile_matrix = [[], [], [], []]\n",
    "consensus_string = ''\n",
    "\n",
    "for column in range(0, len(matrix[0])):\n",
    "    \n",
    "    my_list = list(matrix[:, column])\n",
    "    \n",
    "    if column < len(last_line):\n",
    "        my_list.append(last_line[column])\n",
    "    \n",
    "    number_of_a = my_list.count('A')\n",
    "    number_of_c = my_list.count('C')\n",
    "    number_of_g = my_list.count('G')\n",
    "    number_of_t = my_list.count('T')\n",
    "    \n",
    "    if number_of_a > number_of_c and number_of_a > number_of_g and number_of_a > number_of_t:\n",
    "        consensus_string += 'A'\n",
    "    elif number_of_c > number_of_g and number_of_c > number_of_t:\n",
    "        consensus_string += 'C'\n",
    "    elif number_of_g > number_of_t:\n",
    "        consensus_string += 'G'\n",
    "    else: # (Segundo instruções do problema) Se houver várias strings de consenso possíveis, \n",
    "           # você poderá retornar qualquer uma delas. Sendo assim caso os a quantidade de elementos seja igual meu default\n",
    "             # será o 'T' para a montagem da string de consenso\n",
    "        consensus_string += 'T'\n",
    "    \n",
    "    profile_matrix[0].append(number_of_a)\n",
    "    profile_matrix[1].append(number_of_c)\n",
    "    profile_matrix[2].append(number_of_g)\n",
    "    profile_matrix[3].append(number_of_t)\n",
    "    \n",
    "print('Consensus: %s' % consensus_string)\n",
    "\n",
    "for i in range(0, len(profile_matrix)):\n",
    "    if i == 0:\n",
    "        print('A: ', end=\"\")\n",
    "    if i == 1:\n",
    "        print('C: ', end=\"\")\n",
    "    if i == 2:\n",
    "        print('G: ', end=\"\")\n",
    "    if i == 3:\n",
    "        print('T: ', end=\"\")\n",
    "\n",
    "    for j in range(0, len(profile_matrix[i])):\n",
    "        print(profile_matrix[i][j], end=\" \")\n",
    "    \n",
    "    print()\n",
    "    "
   ]
  }
 ],
 "metadata": {
  "kernelspec": {
   "display_name": "Python 3",
   "language": "python",
   "name": "python3"
  },
  "language_info": {
   "codemirror_mode": {
    "name": "ipython",
    "version": 3
   },
   "file_extension": ".py",
   "mimetype": "text/x-python",
   "name": "python",
   "nbconvert_exporter": "python",
   "pygments_lexer": "ipython3",
   "version": "3.8.5"
  }
 },
 "nbformat": 4,
 "nbformat_minor": 4
}
