{
 "cells": [
  {
   "cell_type": "code",
   "execution_count": 1,
   "metadata": {},
   "outputs": [],
   "source": [
    "def complementing_a_strand_of_DNA(content):\n",
    "    result = ''\n",
    "    for i in range(len(content)-1, -1, -1):\n",
    "        if content[i] == 'A':\n",
    "            result += 'T'\n",
    "        if content[i] == 'T':\n",
    "            result += 'A'\n",
    "        if content[i] == 'C':\n",
    "            result += 'G'\n",
    "        if content[i] == 'G':\n",
    "            result += 'C'\n",
    "    return result"
   ]
  },
  {
   "cell_type": "markdown",
   "metadata": {},
   "source": [
    "# Observação: Neste exercício, armazenar a sequência em uma matriz n x m definido pelo usuário. "
   ]
  },
  {
   "cell_type": "code",
   "execution_count": 10,
   "metadata": {
    "scrolled": true
   },
   "outputs": [
    {
     "name": "stdout",
     "output_type": "stream",
     "text": [
      "RNA String:  CUGAGAUGCUACUCGGAUCAUUCAGGCUUAUUCCAAAAGAGACUCUAAUCCAAGUCGCGGGGUCAUCCCCAUGUAACCUGAGUUAGCUACAUGGCU\n",
      "================================================\n",
      "UAG\n",
      "UAA\n"
     ]
    }
   ],
   "source": [
    "import numpy as np\n",
    "\n",
    "codon_t = {\"UUU\":\"F\", \"UUC\":\"F\", \"UUA\":\"L\", \"UUG\":\"L\",\n",
    "    \"UCU\":\"S\", \"UCC\":\"S\", \"UCA\":\"S\", \"UCG\":\"S\",\n",
    "    \"UAU\":\"Y\", \"UAC\":\"Y\", \"UAA\":\"STOP\", \"UAG\":\"STOP\",\n",
    "    \"UGU\":\"C\", \"UGC\":\"C\", \"UGA\":\"STOP\", \"UGG\":\"W\",\n",
    "    \"CUU\":\"L\", \"CUC\":\"L\", \"CUA\":\"L\", \"CUG\":\"L\",\n",
    "    \"CCU\":\"P\", \"CCC\":\"P\", \"CCA\":\"P\", \"CCG\":\"P\",\n",
    "    \"CAU\":\"H\", \"CAC\":\"H\", \"CAA\":\"Q\", \"CAG\":\"Q\",\n",
    "    \"CGU\":\"R\", \"CGC\":\"R\", \"CGA\":\"R\", \"CGG\":\"R\",\n",
    "    \"AUU\":\"I\", \"AUC\":\"I\", \"AUA\":\"I\", \"AUG\":\"M\",\n",
    "    \"ACU\":\"T\", \"ACC\":\"T\", \"ACA\":\"T\", \"ACG\":\"T\",\n",
    "    \"AAU\":\"N\", \"AAC\":\"N\", \"AAA\":\"K\", \"AAG\":\"K\",\n",
    "    \"AGU\":\"S\", \"AGC\":\"S\", \"AGA\":\"R\", \"AGG\":\"R\",\n",
    "    \"GUU\":\"V\", \"GUC\":\"V\", \"GUA\":\"V\", \"GUG\":\"V\",\n",
    "    \"GCU\":\"A\", \"GCC\":\"A\", \"GCA\":\"A\", \"GCG\":\"A\",\n",
    "    \"GAU\":\"D\", \"GAC\":\"D\", \"GAA\":\"E\", \"GAG\":\"E\",\n",
    "    \"GGU\":\"G\", \"GGC\":\"G\", \"GGA\":\"G\", \"GGG\":\"G\"}\n",
    "\n",
    "file = open('files/Sars-Cov-2.fasta')\n",
    "\n",
    "list_dna = ['AGCCATGTAGCTAACTCAGGTTACATGGGGATGACCCCGCGACTTGGATTAGAGTCTCTTTTGGAATAAGCCTGAATGATCCGAGTAGCATCTCAG'] #file.readlines()\n",
    "\n",
    "# Removendo o cabeçalho\n",
    "#del list_dna[0]\n",
    "# Removendo a linha vazia de final de arquivo\n",
    "#del list_dna[len(list_dna) - 1]\n",
    "\n",
    "file.close()\n",
    "\n",
    "rna_string = ''\n",
    "\n",
    "# =====================================================\n",
    "list_dna[0] = complementing_a_strand_of_DNA(list_dna[0])\n",
    "#======================================================\n",
    "\n",
    "# DNA to RNA\n",
    "for i in range(0, len(list_dna)):\n",
    "    rna_string += list_dna[i].rstrip('\\n').replace('T', 'U')\n",
    "\n",
    "result = ''\n",
    "\n",
    "print('RNA String: ', rna_string)\n",
    "print('================================================')\n",
    "    \n",
    "for i in range(0, len(rna_string)):\n",
    "    if i + 3 < len(rna_string):\n",
    "        pos = i + 3 \n",
    "        codon = rna_string[i:pos]\n",
    "        #print(codon)\n",
    "        if codon == 'AUG':\n",
    "            aux_str = codon_t[codon]\n",
    "            i = pos\n",
    "            found_end = False\n",
    "            while i < len(rna_string) and i + 3 < len(rna_string) and found_end == False and codon != 'STOP':\n",
    "                pos = i + 3 \n",
    "                codon = rna_string[i:pos]\n",
    "                \n",
    "                #print('Codon Intermediário: ', codon)\n",
    "                \n",
    "                if codon != 'UAG' and codon != 'UGA' and codon != 'UAA':\n",
    "                    if codon != 'STOP':\n",
    "                        aux_str += codon_t[codon]\n",
    "                else:\n",
    "                    print(codon)\n",
    "                    found_end = True\n",
    "                i = pos\n",
    "                # Se encontrou final então aplica concatena os dados ao resultado\n",
    "            #print(found_end, aux_str)\n",
    "            if found_end == True:\n",
    "                result += aux_str\n",
    "\n",
    "#print('====================================')\n",
    "#print(result)    \n",
    "\n",
    "# Invertendo\n",
    "#inverted_rna = complementing_a_strand_of_DNA(rna_string)\n",
    "\n",
    "#print('Inverted: ', inverted_rna)\n",
    "\n",
    "#print(list_dna)\n",
    "    \n",
    "#print(content_dna)\n",
    "\n",
    "#print(content.upper().replace('T', 'U'))\n",
    "\n",
    "\n"
   ]
  },
  {
   "cell_type": "code",
   "execution_count": null,
   "metadata": {},
   "outputs": [],
   "source": [
    "MLLGSFRLIPKETLIQVAGSSPCNLS"
   ]
  }
 ],
 "metadata": {
  "kernelspec": {
   "display_name": "Python 3",
   "language": "python",
   "name": "python3"
  },
  "language_info": {
   "codemirror_mode": {
    "name": "ipython",
    "version": 3
   },
   "file_extension": ".py",
   "mimetype": "text/x-python",
   "name": "python",
   "nbconvert_exporter": "python",
   "pygments_lexer": "ipython3",
   "version": "3.8.5"
  }
 },
 "nbformat": 4,
 "nbformat_minor": 4
}
