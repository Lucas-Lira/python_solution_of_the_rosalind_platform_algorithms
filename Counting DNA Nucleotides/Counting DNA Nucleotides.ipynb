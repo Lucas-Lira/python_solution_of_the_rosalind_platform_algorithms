{
 "cells": [
  {
   "cell_type": "code",
   "execution_count": 8,
   "metadata": {},
   "outputs": [
    {
     "name": "stdout",
     "output_type": "stream",
     "text": [
      "223 195 221 189 \n"
     ]
    }
   ],
   "source": [
    "file = open('files/rosalind_dna.txt', 'r')\n",
    "s = file.read()\n",
    "file.close()\n",
    "s = s.upper()\n",
    "print('%d %d %d %d ' % (s.count('A'), s.count('C'), s.count('G'), s.count('T')));\n"
   ]
  }
 ],
 "metadata": {
  "kernelspec": {
   "display_name": "Python 3",
   "language": "python",
   "name": "python3"
  },
  "language_info": {
   "codemirror_mode": {
    "name": "ipython",
    "version": 3
   },
   "file_extension": ".py",
   "mimetype": "text/x-python",
   "name": "python",
   "nbconvert_exporter": "python",
   "pygments_lexer": "ipython3",
   "version": "3.8.3"
  }
 },
 "nbformat": 4,
 "nbformat_minor": 4
}
