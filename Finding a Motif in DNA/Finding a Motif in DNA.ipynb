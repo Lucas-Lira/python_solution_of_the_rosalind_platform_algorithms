{
 "cells": [
  {
   "cell_type": "code",
   "execution_count": null,
   "metadata": {},
   "outputs": [],
   "source": [
    "try:\n",
    "    \n",
    "    dna_sequence = list(input())\n",
    "    motif_sequence = list(input())\n",
    "    \n",
    "    dna_length = len(dna_sequence)\n",
    "    motif_length = len(motif_sequence)\n",
    "    \n",
    "    if dna_length >= motif_length:\n",
    "        \n",
    "        i = 0\n",
    "        while (i + motif_length - 1) < dna_length:\n",
    "            \n",
    "            cont = 0\n",
    "            aux = i\n",
    "            \n",
    "            while cont < motif_length and dna_sequence[aux] == motif_sequence[cont]:\n",
    "                cont += 1\n",
    "                aux  += 1\n",
    "            \n",
    "            i += 1\n",
    "            \n",
    "            if cont == motif_length:\n",
    "                print('%d' % i, end=' ')\n",
    "        \n",
    "    else:\n",
    "        print('Invalid values')\n",
    "    \n",
    "except:\n",
    "    print('Invalid values')"
   ]
  }
 ],
 "metadata": {
  "kernelspec": {
   "display_name": "Python 3",
   "language": "python",
   "name": "python3"
  },
  "language_info": {
   "codemirror_mode": {
    "name": "ipython",
    "version": 3
   },
   "file_extension": ".py",
   "mimetype": "text/x-python",
   "name": "python",
   "nbconvert_exporter": "python",
   "pygments_lexer": "ipython3",
   "version": "3.8.3"
  }
 },
 "nbformat": 4,
 "nbformat_minor": 4
}
