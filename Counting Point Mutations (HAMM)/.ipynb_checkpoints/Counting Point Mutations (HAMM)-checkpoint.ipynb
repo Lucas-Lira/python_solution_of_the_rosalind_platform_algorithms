{
 "cells": [
  {
   "cell_type": "code",
   "execution_count": null,
   "metadata": {},
   "outputs": [],
   "source": [
    "file = open('files/validation.txt', 'r')\n",
    "content = file.readlines()\n",
    "file.close()\n",
    "\n",
    "number_of_different_values = 0\n",
    "\n",
    "content[0] = content[0].replace('\\n', '')\n",
    "content[1] = content[1].replace('\\n', '')\n",
    "\n",
    "for i in range(len(content[0])):\n",
    "    if content[0][i] != content[1][i]:\n",
    "        number_of_different_values += 1\n",
    "\n",
    "print(number_of_different_values)\n"
   ]
  }
 ],
 "metadata": {
  "kernelspec": {
   "display_name": "Python 3",
   "language": "python",
   "name": "python3"
  },
  "language_info": {
   "codemirror_mode": {
    "name": "ipython",
    "version": 3
   },
   "file_extension": ".py",
   "mimetype": "text/x-python",
   "name": "python",
   "nbconvert_exporter": "python",
   "pygments_lexer": "ipython3",
   "version": "3.8.3"
  }
 },
 "nbformat": 4,
 "nbformat_minor": 4
}
