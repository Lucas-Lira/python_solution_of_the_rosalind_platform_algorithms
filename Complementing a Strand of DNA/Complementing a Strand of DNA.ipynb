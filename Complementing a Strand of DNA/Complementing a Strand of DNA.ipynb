{
 "cells": [
  {
   "cell_type": "code",
   "execution_count": null,
   "metadata": {},
   "outputs": [],
   "source": [
    "file = open('files/teste.txt', 'r')\n",
    "content = file.read()\n",
    "file.close()\n",
    "\n",
    "result = ''\n",
    "\n",
    "for i in range(len(content)-1, -1, -1):\n",
    "    if content[i] == 'A':\n",
    "        result += 'T'\n",
    "    if content[i] == 'T':\n",
    "        result += 'A'\n",
    "    if content[i] == 'C':\n",
    "        result += 'G'\n",
    "    if content[i] == 'G':\n",
    "        result += 'C'\n",
    "print(result)"
   ]
  }
 ],
 "metadata": {
  "kernelspec": {
   "display_name": "Python 3",
   "language": "python",
   "name": "python3"
  },
  "language_info": {
   "codemirror_mode": {
    "name": "ipython",
    "version": 3
   },
   "file_extension": ".py",
   "mimetype": "text/x-python",
   "name": "python",
   "nbconvert_exporter": "python",
   "pygments_lexer": "ipython3",
   "version": "3.8.5"
  }
 },
 "nbformat": 4,
 "nbformat_minor": 4
}
